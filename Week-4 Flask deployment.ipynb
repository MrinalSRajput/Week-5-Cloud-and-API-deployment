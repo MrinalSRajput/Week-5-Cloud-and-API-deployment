{
 "cells": [
  {
   "cell_type": "code",
   "execution_count": 11,
   "id": "1d4611d3",
   "metadata": {},
   "outputs": [],
   "source": [
    "# Importing the libraries\n",
    "import numpy as np\n",
    "import pandas as pd\n",
    "import pickle\n",
    "from sklearn.linear_model import LinearRegression"
   ]
  },
  {
   "cell_type": "code",
   "execution_count": 12,
   "id": "439ed7f1",
   "metadata": {},
   "outputs": [],
   "source": [
    "dataset = pd.read_csv('D:/DataGlacier/Used car data(1998-2004).csv')"
   ]
  },
  {
   "cell_type": "code",
   "execution_count": 13,
   "id": "b5138c14",
   "metadata": {},
   "outputs": [
    {
     "data": {
      "text/plain": [
       "<bound method NDFrame.head of       Price     KM   HP  Automatic    CC\n",
       "0     13500  46986   90          0  2000\n",
       "1     13750  72937   90          0  2000\n",
       "2     13950  41711   90          0  2000\n",
       "3     14950  48000   90          0  2000\n",
       "4     13750  38500   90          0  2000\n",
       "...     ...    ...  ...        ...   ...\n",
       "1431   7500  20544   86          0  1300\n",
       "1432  10845  19000   86          0  1300\n",
       "1433   8500  17016   86          0  1300\n",
       "1434   7250  16916   86          0  1300\n",
       "1435   6950      1  110          0  1600\n",
       "\n",
       "[1436 rows x 5 columns]>"
      ]
     },
     "execution_count": 13,
     "metadata": {},
     "output_type": "execute_result"
    }
   ],
   "source": [
    "dataset.head"
   ]
  },
  {
   "cell_type": "code",
   "execution_count": 14,
   "id": "ecc7c1c4",
   "metadata": {},
   "outputs": [],
   "source": [
    "X = dataset.drop(columns=['Price'])\n",
    "y = dataset[['Price']]"
   ]
  },
  {
   "cell_type": "code",
   "execution_count": 15,
   "id": "44851161",
   "metadata": {},
   "outputs": [
    {
     "data": {
      "text/plain": [
       "<bound method NDFrame.head of          KM   HP  Automatic    CC\n",
       "0     46986   90          0  2000\n",
       "1     72937   90          0  2000\n",
       "2     41711   90          0  2000\n",
       "3     48000   90          0  2000\n",
       "4     38500   90          0  2000\n",
       "...     ...  ...        ...   ...\n",
       "1431  20544   86          0  1300\n",
       "1432  19000   86          0  1300\n",
       "1433  17016   86          0  1300\n",
       "1434  16916   86          0  1300\n",
       "1435      1  110          0  1600\n",
       "\n",
       "[1436 rows x 4 columns]>"
      ]
     },
     "execution_count": 15,
     "metadata": {},
     "output_type": "execute_result"
    }
   ],
   "source": [
    "X.head"
   ]
  },
  {
   "cell_type": "code",
   "execution_count": 16,
   "id": "50e9548c",
   "metadata": {},
   "outputs": [
    {
     "data": {
      "text/plain": [
       "<bound method NDFrame.head of       Price\n",
       "0     13500\n",
       "1     13750\n",
       "2     13950\n",
       "3     14950\n",
       "4     13750\n",
       "...     ...\n",
       "1431   7500\n",
       "1432  10845\n",
       "1433   8500\n",
       "1434   7250\n",
       "1435   6950\n",
       "\n",
       "[1436 rows x 1 columns]>"
      ]
     },
     "execution_count": 16,
     "metadata": {},
     "output_type": "execute_result"
    }
   ],
   "source": [
    "y.head"
   ]
  },
  {
   "cell_type": "code",
   "execution_count": 17,
   "id": "09915305",
   "metadata": {},
   "outputs": [],
   "source": [
    "regressor = LinearRegression()"
   ]
  },
  {
   "cell_type": "code",
   "execution_count": 18,
   "id": "e65bf09f",
   "metadata": {},
   "outputs": [
    {
     "data": {
      "text/plain": [
       "LinearRegression()"
      ]
     },
     "execution_count": 18,
     "metadata": {},
     "output_type": "execute_result"
    }
   ],
   "source": [
    "#Fitting model with trainig data\n",
    "regressor.fit(X, y)"
   ]
  },
  {
   "cell_type": "code",
   "execution_count": 19,
   "id": "9905c1ec",
   "metadata": {},
   "outputs": [],
   "source": [
    "# Saving model to disk\n",
    "pickle.dump(regressor, open('model.pkl','wb'))"
   ]
  },
  {
   "cell_type": "code",
   "execution_count": 20,
   "id": "b12fb74c",
   "metadata": {},
   "outputs": [
    {
     "name": "stdout",
     "output_type": "stream",
     "text": [
      "[[9233.90967125]]\n"
     ]
    },
    {
     "name": "stderr",
     "output_type": "stream",
     "text": [
      "D:\\Python\\lib\\site-packages\\sklearn\\base.py:450: UserWarning: X does not have valid feature names, but LinearRegression was fitted with feature names\n",
      "  warnings.warn(\n"
     ]
    }
   ],
   "source": [
    "# Loading model to compare the results\n",
    "model = pickle.load(open('model.pkl','rb'))\n",
    "print(model.predict([[72000, 100, 1, 1000]]))"
   ]
  }
 ],
 "metadata": {
  "kernelspec": {
   "display_name": "Python 3 (ipykernel)",
   "language": "python",
   "name": "python3"
  },
  "language_info": {
   "codemirror_mode": {
    "name": "ipython",
    "version": 3
   },
   "file_extension": ".py",
   "mimetype": "text/x-python",
   "name": "python",
   "nbconvert_exporter": "python",
   "pygments_lexer": "ipython3",
   "version": "3.9.13"
  }
 },
 "nbformat": 4,
 "nbformat_minor": 5
}
